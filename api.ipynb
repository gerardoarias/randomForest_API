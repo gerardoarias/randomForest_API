{
 "cells": [
  {
   "cell_type": "code",
   "execution_count": 11,
   "metadata": {},
   "outputs": [],
   "source": [
    "import json\n",
    "import numpy as np\n",
    "import pandas as pd\n",
    "\n",
    "# FastAPI\n",
    "import uvicorn\n",
    "import nest_asyncio\n",
    "\n",
    "nest_asyncio.apply()\n",
    "from typing import Literal, List\n",
    "from pydantic import BaseModel\n",
    "from fastapi import FastAPI, UploadFile, Form, Depends\n",
    "\n",
    "# Models\n",
    "import joblib\n",
    "from tensorflow.keras import models"
   ]
  },
  {
   "cell_type": "code",
   "execution_count": 12,
   "metadata": {},
   "outputs": [],
   "source": [
    "def load_random_forest_model():\n",
    "\n",
    "    model = open('../trainedModels/RandomForest_Model.pkl', 'rb')\n",
    "    return joblib.load(model)"
   ]
  },
  {
   "cell_type": "code",
   "execution_count": 14,
   "metadata": {},
   "outputs": [],
   "source": [
    "def prepare_random_forest_data(departamento, municipio, tipoPerdida, grupoEtario, genero,\n",
    "                               cabezaFamilia, homicidiosProporcion, ano, indrural, gini,\n",
    "                                IPM, coca, o_acto_terror):\n",
    "    \"\"\"\n",
    "    Function to prepare data for the model prediction.\n",
    "    Transforms the salary level into dummy variables\n",
    "    \n",
    "    @params satisfaction_level : float \n",
    "    @params average_monthly_hours : int \n",
    "    @params salary_level : str \n",
    "    @returns: DataFrame with the prepared data\n",
    "    \"\"\"\n",
    "    # tipoPerdida_ = {\"Abandono\": [0, 0, 0], \"Ambos\": [1, 0, 0], \"Despojo\": [0, 1, 0], \"NoReporta\": [0, 0, 1]}\n",
    "\n",
    "\n",
    "\n",
    "    cols = [\n",
    "        'departamento', 'municipio', 'tipoPerdida', 'grupoEtario', 'genero',\n",
    "        'cabezaFamilia', 'homicidiosProporcion', 'ano', 'indrural', 'gini',\n",
    "        'IPM', 'coca', 'o_acto_terror'\n",
    "    ]\n",
    "\n",
    "    data = [[\n",
    "        departamento, municipio, tipoPerdida, grupoEtario, genero,\n",
    "        cabezaFamilia, homicidiosProporcion, ano, indrural, gini, IPM, coca, o_acto_terror\n",
    "    ]]\n",
    "\n",
    "    return pd.DataFrame(columns=cols, data=data)"
   ]
  },
  {
   "cell_type": "code",
   "execution_count": 15,
   "metadata": {},
   "outputs": [
    {
     "data": {
      "text/html": [
       "<div>\n",
       "<style scoped>\n",
       "    .dataframe tbody tr th:only-of-type {\n",
       "        vertical-align: middle;\n",
       "    }\n",
       "\n",
       "    .dataframe tbody tr th {\n",
       "        vertical-align: top;\n",
       "    }\n",
       "\n",
       "    .dataframe thead th {\n",
       "        text-align: right;\n",
       "    }\n",
       "</style>\n",
       "<table border=\"1\" class=\"dataframe\">\n",
       "  <thead>\n",
       "    <tr style=\"text-align: right;\">\n",
       "      <th></th>\n",
       "      <th>departamento</th>\n",
       "      <th>municipio</th>\n",
       "      <th>tipoPerdida</th>\n",
       "      <th>grupoEtario</th>\n",
       "      <th>genero</th>\n",
       "      <th>cabezaFamilia</th>\n",
       "      <th>homicidiosProporcion</th>\n",
       "      <th>ano</th>\n",
       "      <th>indrural</th>\n",
       "      <th>gini</th>\n",
       "      <th>IPM</th>\n",
       "      <th>coca</th>\n",
       "      <th>o_acto_terror</th>\n",
       "    </tr>\n",
       "  </thead>\n",
       "  <tbody>\n",
       "    <tr>\n",
       "      <th>0</th>\n",
       "      <td>1</td>\n",
       "      <td>2</td>\n",
       "      <td>2</td>\n",
       "      <td>2</td>\n",
       "      <td>1</td>\n",
       "      <td>2</td>\n",
       "      <td>0.5</td>\n",
       "      <td>2</td>\n",
       "      <td>0.3</td>\n",
       "      <td>0.5</td>\n",
       "      <td>0.5</td>\n",
       "      <td>1</td>\n",
       "      <td>43</td>\n",
       "    </tr>\n",
       "  </tbody>\n",
       "</table>\n",
       "</div>"
      ],
      "text/plain": [
       "   departamento  municipio  tipoPerdida  grupoEtario  genero  cabezaFamilia  \\\n",
       "0             1          2            2            2       1              2   \n",
       "\n",
       "   homicidiosProporcion  ano  indrural  gini  IPM  coca  o_acto_terror  \n",
       "0                   0.5    2       0.3   0.5  0.5     1             43  "
      ]
     },
     "execution_count": 15,
     "metadata": {},
     "output_type": "execute_result"
    }
   ],
   "source": [
    "prepare_random_forest_data(1, 2, 2, 2, 1, 2, 0.5, 2, 0.3, 0.5, 0.5, 1, 43)"
   ]
  },
  {
   "cell_type": "code",
   "execution_count": 16,
   "metadata": {},
   "outputs": [],
   "source": [
    "def prepare_random_forest_response(prediction):\n",
    "    \"\"\"\n",
    "    Function to prepare the Random Forest resignation\n",
    "    response \n",
    "    \n",
    "    @params: np array with the prediction\n",
    "    @returns: Dict with the resignation predicition : \"Yes\"/\"No\"\n",
    "    \"\"\"\n",
    "    decision = {0: 'Compensa', 3: 'No Restituye', 4: 'Restituye'}\n",
    "    return {\"Resignation prediction\": decision[prediction[0]]}"
   ]
  },
  {
   "cell_type": "markdown",
   "metadata": {},
   "source": [
    "#### Building API"
   ]
  },
  {
   "cell_type": "code",
   "execution_count": 17,
   "metadata": {},
   "outputs": [
    {
     "name": "stdout",
     "output_type": "stream",
     "text": [
      "API URL:  http://localhost:8050/\n"
     ]
    }
   ],
   "source": [
    "# API port\n",
    "port = 8050\n",
    "\n",
    "# Proxy\n",
    "proxy = \"\"\n",
    "\n",
    "service_prefix = os.getenv('JUPYTERHUB_SERVICE_PREFIX')\n",
    "\n",
    "api_url = f'http://localhost:{port}/'\n",
    "# if in workspace, set the proxy server prefix path & the API url\n",
    "if service_prefix:\n",
    "    proxy = f'{service_prefix}proxy/{port}/'\n",
    "    api_url = f'https://workspace.ds4a.com{proxy}'\n",
    "\n",
    "print(\"API URL: \", api_url)"
   ]
  },
  {
   "cell_type": "code",
   "execution_count": 18,
   "metadata": {},
   "outputs": [],
   "source": [
    "fastapi_random_forest = FastAPI(root_path=proxy)"
   ]
  },
  {
   "cell_type": "code",
   "execution_count": 19,
   "metadata": {},
   "outputs": [],
   "source": [
    "@fastapi_random_forest.get('/status/')\n",
    "async def get_api_status():\n",
    "    \"\"\"\n",
    "    GET method for getting the status of the API\n",
    "\n",
    "    @returns: JSON of the API status\n",
    "    \"\"\"\n",
    "    return {'status': 'Up & running'}"
   ]
  },
  {
   "cell_type": "code",
   "execution_count": 22,
   "metadata": {},
   "outputs": [],
   "source": [
    "loaded_model = load_random_forest_model()\n",
    "\n",
    "\n",
    "@fastapi_random_forest.post('/predict/')\n",
    "async def random_forest_predict(departamento, municipio, tipoPerdida, grupoEtario, genero,\n",
    "                               cabezaFamilia, homicidiosProporcion, ano, indrural, gini,\n",
    "                                IPM, coca, o_acto_terror):\n",
    "    \"\"\"\n",
    "    POST method for predicting if an employee is going to resign to his/her job based on\n",
    "    the level of satisfaction, average monthly hours & salary level, \n",
    "    using a Random Forest model.\n",
    "    \n",
    "    @params satisfaction_level : float \n",
    "    @params average_monthly_hours : int \n",
    "    @params salary_level : str \n",
    "    @returns: JSON of the resignation prediction\n",
    "    \"\"\"\n",
    "\n",
    "    prepared_data = prepare_random_forest_data(departamento, municipio, tipoPerdida, grupoEtario, genero,\n",
    "                               cabezaFamilia, homicidiosProporcion, ano, indrural, gini,\n",
    "                                IPM, coca, o_acto_terror)\n",
    "\n",
    "    prediction = loaded_model.predict(prepared_data)\n",
    "\n",
    "    return prepare_random_forest_response(prediction)"
   ]
  },
  {
   "cell_type": "code",
   "execution_count": 23,
   "metadata": {},
   "outputs": [
    {
     "name": "stdout",
     "output_type": "stream",
     "text": [
      "API Swagger URL: http://localhost:8050/docs\n"
     ]
    }
   ],
   "source": [
    "print(f'API Swagger URL: {api_url}docs')\n",
    "uvicorn.run(fastapi_random_forest, port=port, host='0.0.0.0')"
   ]
  },
  {
   "cell_type": "code",
   "execution_count": null,
   "metadata": {},
   "outputs": [],
   "source": [
    "'departamento', 'municipio', 'tipoPerdida', 'grupoEtario', 'genero',\n",
    "'cabezaFamilia', 'homicidiosProporcion', 'ano', 'indrural', 'gini',\n",
    "'IPM', 'coca', 'o_acto_terror'"
   ]
  },
  {
   "cell_type": "code",
   "execution_count": 24,
   "metadata": {},
   "outputs": [],
   "source": [
    "## Pydantic Model\n",
    "class ModelInput(BaseModel):\n",
    "    \"\"\"\n",
    "    Class that defines the model input typing, restrictions and max/min values for validation\n",
    "    \"\"\"\n",
    "    departamento: int = Form(\n",
    "        description=\"Departamento en donde se dio la sentencia\", ge=0, le=25)\n",
    "    municipio: int = Form(\n",
    "        description=\"Municipio en donde se dio la sentencia\", ge=0, le=368)\n",
    "    tipoPerdida: int = Form(\n",
    "        description=\"Tipo de pérdida involucrada\", ge=0, le=3)\n",
    "    grupoEtario: int = Form(\n",
    "        description=\"Grupo etario del/de la solicitante\", ge=0, le=5)\n",
    "    genero: int = Form(\n",
    "        description=\"Género del/de la solicitante\", ge=0, le=3)\n",
    "    cabezaFamilia: int = Form(\n",
    "        description=\"Se es cabeza de familia\", ge=0, le=1)\n",
    "    homicidiosProporcion: float = Form(\n",
    "        description=\"Homicidios totales/Población municipal\", ge=0, le=1)\n",
    "    ano: int = Form(\n",
    "        description=\"Año de expedición de la sentencia\", ge=0, le=10) \n",
    "    indrural: float = Form(\n",
    "        description=\"Pob Rural/Pob total municipal\", ge=0, le=1)\n",
    "    gini: float = Form(\n",
    "        description=\"Gini municipal\", ge=0, le=1)   \n",
    "    IPM: float = Form(\n",
    "        description=\"IPM municipal\", ge=0, le=100)\n",
    "    coca: int = Form(\n",
    "        description=\"Presencia de coca en el municipo\", ge=0, le=1)\n",
    "    o_acto_terror: int = Form(\n",
    "        description=\"Actos de terror ocurridos en el municipio\")      \n",
    "                   \n",
    "    # salary_level: Literal[\"high\", \"low\", \"medium\"]"
   ]
  },
  {
   "cell_type": "code",
   "execution_count": 25,
   "metadata": {},
   "outputs": [
    {
     "name": "stdout",
     "output_type": "stream",
     "text": [
      "2 3 2 3 1 1 0.006 3 0.55 0.45 34 1 12\n"
     ]
    }
   ],
   "source": [
    "# How to pass parameters from a pydantic model into a helper function\n",
    "def test_parameters(departamento, municipio, tipoPerdida, grupoEtario, genero,\n",
    "                    cabezaFamilia, homicidiosProporcion, ano, indrural, gini,\n",
    "                    IPM, coca, o_acto_terror):\n",
    "    print(departamento, municipio, tipoPerdida, grupoEtario, genero,\n",
    "        cabezaFamilia, homicidiosProporcion, ano, indrural, gini,\n",
    "        IPM, coca, o_acto_terror)\n",
    "\n",
    "\n",
    "# First convert the pydantic object into a dictionary\n",
    "parameters = {\n",
    "    'departamento': 2,\n",
    "    'municipio': 3,\n",
    "    'tipoPerdida': 2,\n",
    "    'grupoEtario': 3,\n",
    "    'genero': 1,\n",
    "    'cabezaFamilia': 1, \n",
    "    'homicidiosProporcion': 0.006, \n",
    "    'ano': 3, \n",
    "    'indrural': 0.55, \n",
    "    'gini': 0.45,\n",
    "    'IPM': 34, \n",
    "    'coca': 1, \n",
    "    'o_acto_terror': 12\n",
    "}\n",
    "\n",
    "# Use the **kwargs sintax to pass a dict into a function\n",
    "test_parameters(**parameters)"
   ]
  },
  {
   "cell_type": "code",
   "execution_count": 26,
   "metadata": {},
   "outputs": [
    {
     "name": "stdout",
     "output_type": "stream",
     "text": [
      "API Swagger URL: http://localhost:8050/docs\n"
     ]
    }
   ],
   "source": [
    "fastapi_validation = FastAPI(root_path=proxy)\n",
    "\n",
    "\n",
    "@fastapi_validation.post('/predict/')\n",
    "async def predict_validation(inputs: ModelInput = Depends()):\n",
    "    \"\"\"\n",
    "    POST method for predicting if an employee is going to resign to his/her job based on\n",
    "    the level of satisfaction, average monthly hours & salary level, \n",
    "    using a Random Forest model. Applies data validation\n",
    "    \n",
    "    @params inputs: Model input for prediction\n",
    "    @returns: JSON of the resignation prediction\n",
    "    \"\"\"\n",
    "\n",
    "    prepared_data = prepare_random_forest_data(**dict(inputs))\n",
    "\n",
    "    prediction = loaded_model.predict(prepared_data)\n",
    "\n",
    "    return prepare_random_forest_response(prediction)\n",
    "\n",
    "\n",
    "print(f'API Swagger URL: {api_url}docs')\n",
    "uvicorn.run(fastapi_validation, port=port, host='0.0.0.0')"
   ]
  },
  {
   "cell_type": "markdown",
   "metadata": {},
   "source": [
    "#### Probando request a la data"
   ]
  },
  {
   "cell_type": "code",
   "execution_count": 27,
   "metadata": {},
   "outputs": [],
   "source": [
    "import pandas as pd\n",
    "import requests"
   ]
  },
  {
   "cell_type": "code",
   "execution_count": null,
   "metadata": {},
   "outputs": [],
   "source": [
    "# multiple_data = pd.read_csv('')\n",
    "# data = list(multiple_data[:2].to_dict(orient='index'.values()))\n",
    "# data"
   ]
  },
  {
   "cell_type": "code",
   "execution_count": 32,
   "metadata": {},
   "outputs": [
    {
     "data": {
      "text/plain": [
       "[{'Resignation prediction': 'Restituye'}]"
      ]
     },
     "execution_count": 32,
     "metadata": {},
     "output_type": "execute_result"
    }
   ],
   "source": [
    "data = [{\n",
    "    \"departamento\": 2,\n",
    "    \"municipio\": 3,\n",
    "    \"tipoPerdida\": 2,\n",
    "    \"grupoEtario\": 3,\n",
    "    \"genero\": 1,\n",
    "    \"cabezaFamilia\": 1, \n",
    "    \"homicidiosProporcion\": 0.006, \n",
    "    \"ano\": 3, \n",
    "    \"indrural\": 0.55, \n",
    "    \"gini\": 0.45,\n",
    "    \"IPM\": 34, \n",
    "    \"o_acto_terror\": 12\n",
    "}] \n",
    "url = 'http://localhost:8050/predict/'\n",
    "response = requests.post(url, json=data)\n",
    "response.json()"
   ]
  },
  {
   "cell_type": "code",
   "execution_count": 33,
   "metadata": {},
   "outputs": [
    {
     "data": {
      "text/html": [
       "<div>\n",
       "<style scoped>\n",
       "    .dataframe tbody tr th:only-of-type {\n",
       "        vertical-align: middle;\n",
       "    }\n",
       "\n",
       "    .dataframe tbody tr th {\n",
       "        vertical-align: top;\n",
       "    }\n",
       "\n",
       "    .dataframe thead th {\n",
       "        text-align: right;\n",
       "    }\n",
       "</style>\n",
       "<table border=\"1\" class=\"dataframe\">\n",
       "  <thead>\n",
       "    <tr style=\"text-align: right;\">\n",
       "      <th></th>\n",
       "      <th>Resignation prediction</th>\n",
       "    </tr>\n",
       "  </thead>\n",
       "  <tbody>\n",
       "    <tr>\n",
       "      <th>0</th>\n",
       "      <td>Restituye</td>\n",
       "    </tr>\n",
       "  </tbody>\n",
       "</table>\n",
       "</div>"
      ],
      "text/plain": [
       "  Resignation prediction\n",
       "0              Restituye"
      ]
     },
     "execution_count": 33,
     "metadata": {},
     "output_type": "execute_result"
    }
   ],
   "source": [
    "pd.DataFrame(response.json())"
   ]
  },
  {
   "cell_type": "code",
   "execution_count": null,
   "metadata": {},
   "outputs": [],
   "source": []
  }
 ],
 "metadata": {
  "kernelspec": {
   "display_name": "Python 3.10.4 64-bit",
   "language": "python",
   "name": "python3"
  },
  "language_info": {
   "codemirror_mode": {
    "name": "ipython",
    "version": 3
   },
   "file_extension": ".py",
   "mimetype": "text/x-python",
   "name": "python",
   "nbconvert_exporter": "python",
   "pygments_lexer": "ipython3",
   "version": "3.10.5"
  },
  "orig_nbformat": 4,
  "vscode": {
   "interpreter": {
    "hash": "e7370f93d1d0cde622a1f8e1c04877d8463912d04d973331ad4851f04de6915a"
   }
  }
 },
 "nbformat": 4,
 "nbformat_minor": 2
}
